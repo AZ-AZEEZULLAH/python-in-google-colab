{
  "nbformat": 4,
  "nbformat_minor": 0,
  "metadata": {
    "colab": {
      "provenance": [],
      "gpuType": "T4",
      "authorship_tag": "ABX9TyNkJ19H0jCE4QpArosd5my7",
      "include_colab_link": true
    },
    "kernelspec": {
      "name": "python3",
      "display_name": "Python 3"
    },
    "language_info": {
      "name": "python"
    },
    "accelerator": "GPU"
  },
  "cells": [
    {
      "cell_type": "markdown",
      "metadata": {
        "id": "view-in-github",
        "colab_type": "text"
      },
      "source": [
        "<a href=\"https://colab.research.google.com/github/AZ-AZEEZULLAH/python-in-google-colab/blob/main/liveclass_09.ipynb\" target=\"_parent\"><img src=\"https://colab.research.google.com/assets/colab-badge.svg\" alt=\"Open In Colab\"/></a>"
      ]
    },
    {
      "cell_type": "markdown",
      "source": [
        "                     **Building LLM prompts with variables**"
      ],
      "metadata": {
        "id": "j4_ISr6gCGpU"
      }
    },
    {
      "cell_type": "markdown",
      "source": [
        "                          **Download helper_function.py**\n",
        "\n",
        "                       * pls set Secrets Variable for Gemini in Collab\n",
        "\n",
        "\n",
        "                        * GEMINI_API_KEY"
      ],
      "metadata": {
        "id": "HIU0oaSVEBL9"
      }
    },
    {
      "cell_type": "markdown",
      "source": [
        "\n",
        "\n",
        "\n",
        "\n",
        "             (GEMINI_API_KEY)\n",
        "\n"
      ],
      "metadata": {
        "id": "wuNipkZ0F_0V"
      }
    },
    {
      "cell_type": "code",
      "source": [
        "!curl -o helper_functions.py https://raw.githubusercontent.com/panaversity/learn-cloud-native-modern-ai-python/main/04_natural_language_programming/02_ai_python_for_beginners/course1_basics/Lesson_9/helper_functions.py"
      ],
      "metadata": {
        "colab": {
          "base_uri": "https://localhost:8080/"
        },
        "id": "KZa_3OAuGcRR",
        "outputId": "6c6b4808-f0e6-47de-f651-bf82266776bc"
      },
      "execution_count": 1,
      "outputs": [
        {
          "output_type": "stream",
          "name": "stdout",
          "text": [
            "  % Total    % Received % Xferd  Average Speed   Time    Time     Time  Current\n",
            "                                 Dload  Upload   Total   Spent    Left  Speed\n",
            "100  3944  100  3944    0     0  17900      0 --:--:-- --:--:-- --:--:-- 17846\n"
          ]
        }
      ]
    },
    {
      "cell_type": "code",
      "source": [
        "from helper_functions import print_llm_response"
      ],
      "metadata": {
        "id": "Hyy3yOVCI3s3"
      },
      "execution_count": 3,
      "outputs": []
    },
    {
      "cell_type": "code",
      "source": [
        "print_llm_response(\"What is the capital of  India?\")"
      ],
      "metadata": {
        "colab": {
          "base_uri": "https://localhost:8080/",
          "height": 52
        },
        "id": "Xeb4HJTFKNzr",
        "outputId": "25f6a7db-2248-4349-ddd4-e07a545c103b"
      },
      "execution_count": 6,
      "outputs": [
        {
          "output_type": "stream",
          "name": "stdout",
          "text": [
            "The capital of India is **New Delhi**. \n",
            "\n"
          ]
        }
      ]
    },
    {
      "cell_type": "code",
      "source": [
        "print_llm_response(\"Who is PM of Australia\")"
      ],
      "metadata": {
        "colab": {
          "base_uri": "https://localhost:8080/",
          "height": 52
        },
        "id": "7QRf4I0vKhPk",
        "outputId": "ea8ef06f-4267-484a-cf4c-e67af0f9b5d3"
      },
      "execution_count": 7,
      "outputs": [
        {
          "output_type": "stream",
          "name": "stdout",
          "text": [
            "The current Prime Minister of Australia is **Anthony Albanese**. He assumed office on May 23, 2022. \n",
            "\n"
          ]
        }
      ]
    },
    {
      "cell_type": "code",
      "source": [
        "print_llm_response(\"variables in python\")"
      ],
      "metadata": {
        "colab": {
          "base_uri": "https://localhost:8080/",
          "height": 1000
        },
        "id": "dlYkhKxAK9Zr",
        "outputId": "3bd13a3c-c7c8-48cb-b3f3-0c9c85d93d3a"
      },
      "execution_count": 13,
      "outputs": [
        {
          "output_type": "stream",
          "name": "stdout",
          "text": [
            "Let's dive into variables in Python!\n",
            "\n",
            "**What are Variables?**\n",
            "\n",
            "Think of variables as containers that hold information. They're like labeled boxes where you can store data. In Python, you can assign values to variables using the assignment operator `=`.\n",
            "\n",
            "**Declaring Variables**\n",
            "\n",
            "* **No Explicit Declaration:** Python doesn't require you to declare a variable's type beforehand.  You simply assign a value, and the interpreter automatically figures out the type.\n",
            "* **Dynamic Typing:** This means the type of a variable can change during the execution of your program.\n",
            "\n",
            "**Example:**\n",
            "\n",
            "```python\n",
            "name = \"Alice\"  # String\n",
            "age = 30       # Integer\n",
            "is_student = True  # Boolean\n",
            "```\n",
            "\n",
            "**Variable Naming Rules**\n",
            "\n",
            "* **Start with a letter or underscore:**  `my_variable`, `age`, `_count` are valid.\n",
            "* **Case-sensitive:** `my_variable` and `My_Variable` are different variables.\n",
            "* **No spaces or special characters:** Use underscores to separate words in variable names (e.g., `first_name`).\n",
            "* **Avoid using Python keywords:** Words like `if`, `for`, `while`, `def`, etc. are reserved for specific purposes.\n",
            "\n",
            "**Data Types in Python**\n",
            "\n",
            "Here are some common data types you'll encounter:\n",
            "\n",
            "* **Numbers:**\n",
            "    * `int` (integers): Whole numbers like 10, -5, 0.\n",
            "    * `float` (floating-point numbers): Numbers with decimal points like 3.14, -2.5.\n",
            "* **Strings:** Text enclosed in single or double quotes: `'Hello'`, `\"World\"`.\n",
            "* **Booleans:** `True` or `False` values.\n",
            "* **Lists:** Ordered collections of elements: `[1, 2, 3]`, `['apple', 'banana', 'cherry']`.\n",
            "* **Tuples:** Immutable (cannot be changed) ordered collections: `(1, 2, 3)`, `('red', 'green', 'blue')`.\n",
            "* **Dictionaries:** Key-value pairs: `{'name': 'Alice', 'age': 30}`.\n",
            "\n",
            "**Working with Variables**\n",
            "\n",
            "* **Assignment:** Assign a value to a variable using `=`.\n",
            "* **Reassignment:** You can change the value stored in a variable:\n",
            "   ```python\n",
            "   x = 10\n",
            "   x = 20  # Now 'x' holds the value 20\n",
            "   ```\n",
            "* **Operations:** You can perform operations on variables:\n",
            "   ```python\n",
            "   a = 5\n",
            "   b = 3\n",
            "   sum = a + b  # sum will be 8\n",
            "   ```\n",
            "\n",
            "**Example:**\n",
            "\n",
            "```python\n",
            "# Declare variables\n",
            "name = \"Bob\"\n",
            "age = 25\n",
            "is_programmer = True\n",
            "\n",
            "# Print information\n",
            "print(\"Name:\", name)\n",
            "print(\"Age:\", age)\n",
            "print(\"Is a programmer:\", is_programmer)\n",
            "\n",
            "# Reassign age\n",
            "age = age + 1  # Increment age by 1\n",
            "print(\"New Age:\", age)\n",
            "```\n",
            "\n",
            "**Key Points**\n",
            "\n",
            "* Variables are essential for storing and manipulating data in your programs.\n",
            "* Python uses dynamic typing, so you don't need to declare a variable's type explicitly.\n",
            "* Variables can hold various types of data, including numbers, strings, booleans, and more.\n",
            "* Be sure to follow the naming rules for variables.\n",
            "\n",
            "Let me know if you'd like to explore specific data types or how to use variables in different Python programming scenarios. \n",
            "\n"
          ]
        }
      ]
    },
    {
      "cell_type": "code",
      "source": [
        "name:str=\"Azeezullah\"\n",
        "age:int=31"
      ],
      "metadata": {
        "id": "jSLA6s9bLNId"
      },
      "execution_count": 9,
      "outputs": []
    },
    {
      "cell_type": "code",
      "source": [
        "print_llm_response(f\"\"\"If {name} were a dog, he would be {age} years old.\n",
        "Describe what life stage that would be for a dog and what that might\n",
        "entail in terms of energy level, interests, and behavior.\"\"\")"
      ],
      "metadata": {
        "colab": {
          "base_uri": "https://localhost:8080/",
          "height": 245
        },
        "id": "KxUHfN5ALeDf",
        "outputId": "a17f97d2-f1b2-464f-ae73-4cc2afc24754"
      },
      "execution_count": 10,
      "outputs": [
        {
          "output_type": "stream",
          "name": "stdout",
          "text": [
            "If Azeezullah were a dog, 31 years old would put him firmly in the **geriatric** stage of his life.  This is a stage of significant aging, equivalent to a human being in their late 80s or 90s.  Here's what we might expect:\n",
            "\n",
            "* **Energy Levels:** Azeezullah would likely be much less energetic than in his younger days. He might have trouble keeping up on walks, sleep more often, and have less interest in playing fetch or other active games.  He might also be more prone to stiffness and joint pain.\n",
            "* **Interests:**  Azeezullah's interests would likely shift towards comfort and routine. He might enjoy spending time snuggling with his favorite humans, taking short, leisurely walks, and enjoying quiet time. He might lose interest in some of his former favorite activities.\n",
            "* **Behavior:**  Azeezullah might display some age-related changes in behavior, such as:\n",
            "    * **Cognitive Decline:** He might experience confusion, forgetfulness, or have trouble navigating familiar places.\n",
            "    * **Incontinence:** He might have accidents in the house.\n",
            "    * **Changes in Sleep Patterns:** He might sleep more during the day and be more restless at night.\n",
            "    * **Increased Grumpiness:**  He might be more irritable or easily startled.\n",
            "\n",
            "**Important Note:** While these are typical characteristics of a geriatric dog, every dog is different. Some dogs remain relatively active and spry even in their later years, while others decline more quickly. If you are concerned about your elderly dog, it's always best to consult with a veterinarian for advice and support. \n",
            "\n"
          ]
        }
      ]
    },
    {
      "cell_type": "code",
      "source": [
        "favorite_book: str = \"1001 Ways to Wear a Hat\"\n",
        "second_fav_book: str = \"2002 Ways to Wear a Scarf\"\n",
        "print(f\"My most favorite book is {favorite_book}, but I also like {second_fav_book}\")\n"
      ],
      "metadata": {
        "colab": {
          "base_uri": "https://localhost:8080/"
        },
        "id": "0hdfacsxMxOV",
        "outputId": "6bba4e87-778f-49c7-868d-fc7744d116e1"
      },
      "execution_count": 12,
      "outputs": [
        {
          "output_type": "stream",
          "name": "stdout",
          "text": [
            "My most favorite book is 1001 Ways to Wear a Hat, but I also like 2002 Ways to Wear a Scarf\n"
          ]
        }
      ]
    }
  ]
}