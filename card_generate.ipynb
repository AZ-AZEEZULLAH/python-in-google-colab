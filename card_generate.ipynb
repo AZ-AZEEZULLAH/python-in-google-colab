{
  "nbformat": 4,
  "nbformat_minor": 0,
  "metadata": {
    "colab": {
      "provenance": [],
      "authorship_tag": "ABX9TyMe0oJWhCBzL4p/SPnnbvxm",
      "include_colab_link": true
    },
    "kernelspec": {
      "name": "python3",
      "display_name": "Python 3"
    },
    "language_info": {
      "name": "python"
    }
  },
  "cells": [
    {
      "cell_type": "markdown",
      "metadata": {
        "id": "view-in-github",
        "colab_type": "text"
      },
      "source": [
        "<a href=\"https://colab.research.google.com/github/AZ-AZEEZULLAH/python-in-google-colab/blob/main/card_generate.ipynb\" target=\"_parent\"><img src=\"https://colab.research.google.com/assets/colab-badge.svg\" alt=\"Open In Colab\"/></a>"
      ]
    },
    {
      "cell_type": "code",
      "source": [
        "!pip install Pillow"
      ],
      "metadata": {
        "colab": {
          "base_uri": "https://localhost:8080/"
        },
        "id": "oGXydXL4uKhT",
        "outputId": "c09b2380-6e76-4edc-b64b-f72ea04b1cfa"
      },
      "execution_count": null,
      "outputs": [
        {
          "output_type": "stream",
          "name": "stdout",
          "text": [
            "Requirement already satisfied: Pillow in /usr/local/lib/python3.10/dist-packages (10.4.0)\n"
          ]
        }
      ]
    },
    {
      "cell_type": "code",
      "source": [
        "\n",
        "\n",
        "!pip install Pillow\n",
        "from PIL import Image, ImageDraw\n",
        "\n",
        "card_width = 600\n",
        "card_height = 300\n",
        "card_color = (255, 255, 255)\n",
        "card = Image.new(\"RGB\", (card_width, card_height), card_color)\n",
        "draw = ImageDraw.Draw(card)\n"
      ],
      "metadata": {
        "colab": {
          "base_uri": "https://localhost:8080/"
        },
        "id": "5EWgmR2bvkaQ",
        "outputId": "dbf7c070-ce70-4cc9-8c23-b230fb0d648d"
      },
      "execution_count": null,
      "outputs": [
        {
          "output_type": "stream",
          "name": "stdout",
          "text": [
            "Requirement already satisfied: Pillow in /usr/local/lib/python3.10/dist-packages (10.4.0)\n"
          ]
        }
      ]
    },
    {
      "cell_type": "code",
      "source": [
        "\n",
        "\n",
        "from PIL import Image, ImageDraw\n",
        "!pip install Pillow\n",
        "\n",
        "\n",
        "!pip install Pillow\n",
        "\n",
        "card_width = 600\n",
        "card_height = 300\n",
        "card_color = (255, 255, 255)\n",
        "card = Image.new(\"RGB\", (card_width, card_height), card_color)\n",
        "draw = ImageDraw.Draw(card)\n",
        "\n",
        "try:\n",
        "  profile_image = Image.open('/content/WhatsApp Image 2024-01-14 at 06.37.01_ba463891.jpg') # Assuming the image is in the content folder\n",
        "except FileNotFoundError:\n",
        "  print(\"Error: Profile image not found. Please upload or provide the correct path\")\n"
      ],
      "metadata": {
        "colab": {
          "base_uri": "https://localhost:8080/"
        },
        "id": "E7c4nyeAwlLn",
        "outputId": "dc7355b1-edf3-46db-a4bb-4dbbfeec6bf4"
      },
      "execution_count": null,
      "outputs": [
        {
          "output_type": "stream",
          "name": "stdout",
          "text": [
            "Requirement already satisfied: Pillow in /usr/local/lib/python3.10/dist-packages (10.4.0)\n",
            "Requirement already satisfied: Pillow in /usr/local/lib/python3.10/dist-packages (10.4.0)\n"
          ]
        }
      ]
    },
    {
      "cell_type": "code",
      "source": [
        "# prompt: pls fix error cell 10\n",
        "\n",
        "from PIL import Image, ImageDraw\n",
        "!pip install Pillow\n",
        "\n",
        "\n",
        "!pip install Pillow\n",
        "\n",
        "card_width = 600\n",
        "card_height = 300\n",
        "card_color = (255, 255, 255)\n",
        "card = Image.new(\"RGB\", (card_width, card_height), card_color)\n",
        "draw = ImageDraw.Draw(card)\n",
        "\n",
        "\n",
        "\n",
        "!pip install Pillow\n",
        "\n",
        "\n",
        "!pip install Pillow\n",
        "\n",
        "card_width = 600\n",
        "card_height = 300\n",
        "card_color = (255, 255, 255)\n",
        "card = Image.new(\"RGB\", (card_width, card_height), card_color)\n",
        "draw = ImageDraw.Draw(card)\n",
        "\n",
        "try:\n",
        "  profile_image = Image.open('/content/student -picture.jpg') # Assuming the image is in the content folder\n",
        "except FileNotFoundError:\n",
        "  print(\"Error: Profile image not found. Please upload or provide the correct path\")\n",
        "\n",
        "profile_image = profile_image.resize((100, 120)) # Fixed the error here, changed profile_imag to profile_image\n"
      ],
      "metadata": {
        "colab": {
          "base_uri": "https://localhost:8080/"
        },
        "id": "aoif4T20xNzP",
        "outputId": "544c0267-5da6-49a2-e06c-6c0cfdf1a849"
      },
      "execution_count": null,
      "outputs": [
        {
          "output_type": "stream",
          "name": "stdout",
          "text": [
            "Requirement already satisfied: Pillow in /usr/local/lib/python3.10/dist-packages (10.4.0)\n",
            "Requirement already satisfied: Pillow in /usr/local/lib/python3.10/dist-packages (10.4.0)\n",
            "Requirement already satisfied: Pillow in /usr/local/lib/python3.10/dist-packages (10.4.0)\n",
            "Requirement already satisfied: Pillow in /usr/local/lib/python3.10/dist-packages (10.4.0)\n",
            "Error: Profile image not found. Please upload or provide the correct path\n"
          ]
        }
      ]
    },
    {
      "cell_type": "code",
      "source": [
        "box_width =120\n",
        "box_height = 140\n",
        "box_x = 440\n",
        "box_y = 30\n",
        "draw.rectangle([(box_x,box_y),(box_x+box_width,box_y +box_width)],outline=\"green\",width=2)"
      ],
      "metadata": {
        "id": "wqoRyFa-xgUX"
      },
      "execution_count": null,
      "outputs": []
    },
    {
      "cell_type": "code",
      "source": [
        "draw.text((20,30), \"Name: Azeezullah\",fill=\"black\")\n",
        "draw.text((20,60),\"Roll No : PIAIC246421\", fill=\"black\")\n",
        "draw.text((20,90),\"Distance learning :No\", fill=\"black\")\n",
        "draw.text((20,120),\"Center:Bahria Auditorium\", fill=\"black\")\n",
        "draw.text((20,180),\"Campus: Karsaz\",fill=\"black\")\n",
        "draw.text((20,210),\"Days/Time:Sunday- 02:00pm to 06:00pm\",fill=\"black\")\n",
        "draw.text((20,240),\"Batch: 61\",fill=\"black\")"
      ],
      "metadata": {
        "id": "tC-0HDRtybMT"
      },
      "execution_count": null,
      "outputs": []
    },
    {
      "cell_type": "code",
      "source": [
        "card.save(\"/content/id_card_output.png\")"
      ],
      "metadata": {
        "id": "qBayflZl0gUW"
      },
      "execution_count": null,
      "outputs": []
    },
    {
      "cell_type": "code",
      "source": [
        "display(card)"
      ],
      "metadata": {
        "colab": {
          "base_uri": "https://localhost:8080/",
          "height": 317
        },
        "id": "YltCJ6zx0_Me",
        "outputId": "bba1fe97-4f1e-44b0-d53e-f460bb2f945c"
      },
      "execution_count": null,
      "outputs": [
        {
          "output_type": "display_data",
          "data": {
            "text/plain": [
              "<PIL.Image.Image image mode=RGB size=600x300>"
            ],
            "image/png": "[encoded data removed]",
            "image/jpeg": "[encoded data removed]"
          },
          "metadata": {}
        }
      ]
    }
  ]
}