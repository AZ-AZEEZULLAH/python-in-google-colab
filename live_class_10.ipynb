{
  "nbformat": 4,
  "nbformat_minor": 0,
  "metadata": {
    "colab": {
      "provenance": [],
      "authorship_tag": "ABX9TyNZOu5ZAvi95ztIqX7SjcZg",
      "include_colab_link": true
    },
    "kernelspec": {
      "name": "python3",
      "display_name": "Python 3"
    },
    "language_info": {
      "name": "python"
    }
  },
  "cells": [
    {
      "cell_type": "markdown",
      "metadata": {
        "id": "view-in-github",
        "colab_type": "text"
      },
      "source": [
        "<a href=\"https://colab.research.google.com/github/AZ-AZEEZULLAH/python-in-google-colab/blob/main/live_class_10.ipynb\" target=\"_parent\"><img src=\"https://colab.research.google.com/assets/colab-badge.svg\" alt=\"Open In Colab\"/></a>"
      ]
    },
    {
      "cell_type": "markdown",
      "source": [
        "                             ** Lesson 10:**\n",
        "                               **Functions - Actions on Data**"
      ],
      "metadata": {
        "id": "2ocwWVMPRq-A"
      }
    },
    {
      "cell_type": "code",
      "source": [
        "print(\"¯\\_(ツ)_/¯\")"
      ],
      "metadata": {
        "colab": {
          "base_uri": "https://localhost:8080/"
        },
        "collapsed": true,
        "id": "V4l7PmlsSFmW",
        "outputId": "c88bf00d-e761-48f5-87f2-cf0975393c6b"
      },
      "execution_count": 22,
      "outputs": [
        {
          "output_type": "stream",
          "name": "stdout",
          "text": [
            "¯\\_(ツ)_/¯\n"
          ]
        }
      ]
    },
    {
      "cell_type": "code",
      "source": [
        "type(17)"
      ],
      "metadata": {
        "colab": {
          "base_uri": "https://localhost:8080/"
        },
        "collapsed": true,
        "id": "vNIenKUoSPZZ",
        "outputId": "e6e57794-6d41-4a32-e8a7-3f5908da7926"
      },
      "execution_count": 2,
      "outputs": [
        {
          "output_type": "execute_result",
          "data": {
            "text/plain": [
              "int"
            ]
          },
          "metadata": {},
          "execution_count": 2
        }
      ]
    },
    {
      "cell_type": "markdown",
      "source": [
        "          **Functions to count, to round, and to do much more**\n",
        "\n",
        "\n",
        "          There are many functions in Python that you can use straight out of the box. For instance, the len() function counts the characters in a string. So when you run the code below, you will display (using print()) the result of counting (with len()) the number of characters in the string \"Hello World!\".\n",
        "\n",
        "print( len(\"Hello World!\") )"
      ],
      "metadata": {
        "id": "pMhhLbK8SqE8"
      }
    },
    {
      "cell_type": "code",
      "source": [
        "print( len(\"Hello World!\") )"
      ],
      "metadata": {
        "colab": {
          "base_uri": "https://localhost:8080/"
        },
        "collapsed": true,
        "id": "1fWZdbtASiuN",
        "outputId": "79706f52-a8c5-41ae-fb3a-cec85d393b77"
      },
      "execution_count": 4,
      "outputs": [
        {
          "output_type": "stream",
          "name": "stdout",
          "text": [
            "12\n"
          ]
        }
      ]
    },
    {
      "cell_type": "markdown",
      "source": [
        "As another example, you can use round() to take a floating point number and round it to the nearest integer. Below, you use print() to display the result of rounding (with round()) the number 42.17."
      ],
      "metadata": {
        "id": "py_IGxdsS1zd"
      }
    },
    {
      "cell_type": "code",
      "source": [
        "print(round(42.17))"
      ],
      "metadata": {
        "colab": {
          "base_uri": "https://localhost:8080/"
        },
        "collapsed": true,
        "id": "LYOlYl2pS5R3",
        "outputId": "bd42ebe8-be82-4b5d-aabc-7e590f774e12"
      },
      "execution_count": 5,
      "outputs": [
        {
          "output_type": "stream",
          "name": "stdout",
          "text": [
            "42\n"
          ]
        }
      ]
    },
    {
      "cell_type": "code",
      "source": [
        "string_length = len(\"Hello World!\")\n",
        "print(string_length)"
      ],
      "metadata": {
        "colab": {
          "base_uri": "https://localhost:8080/"
        },
        "collapsed": true,
        "id": "Cvs6QePHS_3B",
        "outputId": "7c9453af-f035-405b-d0cc-cfb81e7d6edf"
      },
      "execution_count": 6,
      "outputs": [
        {
          "output_type": "stream",
          "name": "stdout",
          "text": [
            "12\n"
          ]
        }
      ]
    },
    {
      "cell_type": "code",
      "source": [
        "print(round(24/7 , 2))"
      ],
      "metadata": {
        "colab": {
          "base_uri": "https://localhost:8080/"
        },
        "collapsed": true,
        "id": "nYxW5fUuTLAS",
        "outputId": "7c353f19-2fc7-4b38-dadd-e2ed1b9b482f"
      },
      "execution_count": 16,
      "outputs": [
        {
          "output_type": "stream",
          "name": "stdout",
          "text": [
            "3.43\n"
          ]
        }
      ]
    },
    {
      "cell_type": "code",
      "source": [
        "print(round(24/7 , 4))"
      ],
      "metadata": {
        "colab": {
          "base_uri": "https://localhost:8080/"
        },
        "collapsed": true,
        "id": "b7bGleI7UKME",
        "outputId": "1e6dc5fb-3881-4365-c5b0-b7b6c72a0420"
      },
      "execution_count": 17,
      "outputs": [
        {
          "output_type": "stream",
          "name": "stdout",
          "text": [
            "3.4286\n"
          ]
        }
      ]
    },
    {
      "cell_type": "code",
      "source": [
        "print(len(\"Sir Zia  \"))"
      ],
      "metadata": {
        "colab": {
          "base_uri": "https://localhost:8080/"
        },
        "id": "126iHI0lUe1f",
        "outputId": "5ee04852-0c5b-4105-8ef6-4ed37eee8155"
      },
      "execution_count": 19,
      "outputs": [
        {
          "output_type": "stream",
          "name": "stdout",
          "text": [
            "9\n"
          ]
        }
      ]
    },
    {
      "cell_type": "code",
      "source": [
        "print(len(\"Sir Zia  \") - 1)"
      ],
      "metadata": {
        "colab": {
          "base_uri": "https://localhost:8080/"
        },
        "collapsed": true,
        "id": "5_uWILuuUzIF",
        "outputId": "e81b2b26-9891-4c30-e88e-45af89acb340"
      },
      "execution_count": 20,
      "outputs": [
        {
          "output_type": "stream",
          "name": "stdout",
          "text": [
            "8\n"
          ]
        }
      ]
    },
    {
      "cell_type": "code",
      "source": [
        "print(len(\"Iam learning function\"))"
      ],
      "metadata": {
        "colab": {
          "base_uri": "https://localhost:8080/"
        },
        "collapsed": true,
        "id": "H5LCAcSJU9IE",
        "outputId": "0822155e-638f-4c48-ac9f-17ad41a59e22"
      },
      "execution_count": 21,
      "outputs": [
        {
          "output_type": "stream",
          "name": "stdout",
          "text": [
            "21\n"
          ]
        }
      ]
    },
    {
      "cell_type": "code",
      "source": [
        "print(len(\"Iam learning function\") )"
      ],
      "metadata": {
        "colab": {
          "base_uri": "https://localhost:8080/"
        },
        "collapsed": true,
        "id": "lJtNEHrVVhxf",
        "outputId": "55012eb3-ce14-4642-b991-70d862a908e1"
      },
      "execution_count": 26,
      "outputs": [
        {
          "output_type": "stream",
          "name": "stdout",
          "text": [
            "21\n"
          ]
        }
      ]
    },
    {
      "cell_type": "code",
      "source": [
        "print(len(\"Iam learning function\")+1)"
      ],
      "metadata": {
        "colab": {
          "base_uri": "https://localhost:8080/"
        },
        "collapsed": true,
        "id": "5do7BT7eV3gO",
        "outputId": "fe2dd973-805a-45b8-df1d-b9c922f80507"
      },
      "execution_count": 25,
      "outputs": [
        {
          "output_type": "stream",
          "name": "stdout",
          "text": [
            "22\n"
          ]
        }
      ]
    }
  ]
}